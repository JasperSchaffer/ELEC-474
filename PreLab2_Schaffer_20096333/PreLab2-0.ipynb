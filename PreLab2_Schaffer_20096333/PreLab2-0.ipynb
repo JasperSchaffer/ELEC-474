{
 "cells": [
  {
   "cell_type": "code",
   "execution_count": 1,
   "id": "7c47d251",
   "metadata": {},
   "outputs": [],
   "source": [
    "\n",
    "import cv2\n",
    "from matplotlib import pyplot as plt \n",
    "import numpy as np \n",
    "import sklearn \n",
    "\n",
    "\n"
   ]
  },
  {
   "cell_type": "code",
   "execution_count": 2,
   "id": "3573b113",
   "metadata": {},
   "outputs": [],
   "source": [
    "def sub(x,y):\n",
    "    if(x>y):\n",
    "        return x-y\n",
    "    else:\n",
    "        return y-x\n",
    "\n",
    "def checkPoint(a,b,th):\n",
    "    zero = sub(seed[0],img[a][b][0])<th\n",
    "    one= sub(seed[1],img[a][b][1])<th\n",
    "    two= sub(seed[2],img[a][b][2])<th\n",
    "    return ( zero and one and two )"
   ]
  },
  {
   "cell_type": "code",
   "execution_count": 3,
   "id": "d2e12a35",
   "metadata": {},
   "outputs": [],
   "source": [
    "def Fill( x,  y, th):\n",
    "    coord = [x,y]\n",
    "    checked[x][y]=1\n",
    "    stack = []\n",
    "    stack.append([-1,-1])\n",
    "    while(coord[0]>0):\n",
    "        if(checkPoint(coord[0],coord[1],th)):\n",
    "            img[coord[0]][coord[1]][0]=255\n",
    "            img[coord[0]][coord[1]][1]=0\n",
    "            img[coord[0]][coord[1]][2]=0\n",
    "            if( coord[0]-1>0 ):\n",
    "                if( checkPoint(coord[0]-1,coord[1],th) and not checked[coord[0]-1][coord[1]]):\n",
    "                    stack.append([coord[0]-1,coord[1]])\n",
    "                    checked[coord[0]-1][coord[1]] = 1\n",
    "            if(coord[0]+1<img.shape[0]):\n",
    "                if(checkPoint(coord[0]+1,coord[1],th)and not checked[coord[0]+1][coord[1]]):\n",
    "                    stack.append([coord[0]+1,coord[1]])\n",
    "                    checked[coord[0]+1][coord[1]] = 1\n",
    "            if(coord[1]-1>0):\n",
    "                if( checkPoint(coord[0],coord[1]-1,th)and  not checked[coord[0]][coord[1]-1]):\n",
    "                    stack.append([coord[0],coord[1]-1])\n",
    "                    checked[coord[0]][coord[1]-1] = 1\n",
    "            if(coord[1]+1<img.shape[1]):\n",
    "                if(checkPoint(coord[0],coord[1]+1,th)and  not checked[coord[0]][coord[1]+1]):\n",
    "                    stack.append([coord[0],coord[1]+1])\n",
    "                    checked[coord[0]][coord[1]+1] = 1\n",
    "        coord = stack.pop()"
   ]
  },
  {
   "cell_type": "code",
   "execution_count": 4,
   "id": "0881912e",
   "metadata": {},
   "outputs": [],
   "source": [
    "img=cv2.imread(\"test.jpg\")\n",
    "# img=cv2.imread(\"baboon.png\")\n",
    "checked= np.zeros((img.shape[0],img.shape[1]))\n",
    "seed = [0,0,0]\n",
    "def set_th(*args):\n",
    "    threshold = cv2.getTrackbarPos(\"Intensity\", \"Controls\")\n",
    "def Flood(event, x, y, flags, param):\n",
    "    if event == cv2.EVENT_LBUTTONUP:\n",
    "        threshold = cv2.getTrackbarPos(\"Intensity\", \"Controls\")\n",
    "        seedx = int(y)\n",
    "        seedy = int(x)\n",
    "        seed[0] = img[seedx][seedy][0]\n",
    "        seed[1] = img[seedx][seedy][1]\n",
    "        seed[2] = img[seedx][seedy][2]\n",
    "        Fill(seedx,seedy,threshold)\n",
    "plt.show()\n",
    "threshold = 1\n",
    "cv2.namedWindow('Controls', cv2.WINDOW_NORMAL)\n",
    "cv2.resizeWindow('Controls', 800, 50)\n",
    "cv2.createTrackbar(\"Intensity\", 'Controls', 1, 255, set_th)\n",
    "while True:\n",
    "    cv2.imshow(\"Baboon\", img)\n",
    "    cv2.setMouseCallback(\"Baboon\", Flood)\n",
    "    k=cv2.waitKey(1)\n",
    "    if k==27: #if key pressed is esc\n",
    "        break\n",
    "cv2.destroyAllWindows()"
   ]
  },
  {
   "cell_type": "code",
   "execution_count": null,
   "id": "93214225",
   "metadata": {},
   "outputs": [],
   "source": []
  }
 ],
 "metadata": {
  "kernelspec": {
   "display_name": "Python 3",
   "language": "python",
   "name": "python3"
  },
  "language_info": {
   "codemirror_mode": {
    "name": "ipython",
    "version": 3
   },
   "file_extension": ".py",
   "mimetype": "text/x-python",
   "name": "python",
   "nbconvert_exporter": "python",
   "pygments_lexer": "ipython3",
   "version": "3.8.8"
  }
 },
 "nbformat": 4,
 "nbformat_minor": 5
}
